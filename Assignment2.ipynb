{
  "nbformat": 4,
  "nbformat_minor": 0,
  "metadata": {
    "colab": {
      "provenance": []
    },
    "kernelspec": {
      "name": "python3",
      "display_name": "Python 3"
    },
    "language_info": {
      "name": "python"
    }
  },
  "cells": [
    {
      "cell_type": "code",
      "execution_count": null,
      "metadata": {
        "id": "87Pmi7qUYY6S"
      },
      "outputs": [],
      "source": [
        "import pandas as pd\n",
        "import numpy as np\n",
        "import matplotlib.pyplot as plt\n",
        "import seaborn as sbs\n",
        "from scipy import stats"
      ]
    },
    {
      "cell_type": "markdown",
      "source": [
        "Question 3"
      ],
      "metadata": {
        "id": "vxPNv2jrZVPo"
      }
    },
    {
      "cell_type": "code",
      "source": [
        "stats.norm.cdf(44,38,6)"
      ],
      "metadata": {
        "colab": {
          "base_uri": "https://localhost:8080/"
        },
        "id": "EwUc2yL4YqIf",
        "outputId": "9277a25b-f086-4fc2-c508-badcdbdab6c2"
      },
      "execution_count": null,
      "outputs": [
        {
          "output_type": "execute_result",
          "data": {
            "text/plain": [
              "0.8413447460685429"
            ]
          },
          "metadata": {},
          "execution_count": 2
        }
      ]
    },
    {
      "cell_type": "code",
      "source": [
        "1-stats.norm.cdf(44,38,6)"
      ],
      "metadata": {
        "colab": {
          "base_uri": "https://localhost:8080/"
        },
        "id": "yiN4cOt6Y7l5",
        "outputId": "215d8bcd-4811-4e8a-9450-f98d3ff9e8cd"
      },
      "execution_count": null,
      "outputs": [
        {
          "output_type": "execute_result",
          "data": {
            "text/plain": [
              "0.15865525393145707"
            ]
          },
          "metadata": {},
          "execution_count": 3
        }
      ]
    },
    {
      "cell_type": "code",
      "source": [
        "stats.norm.cdf(30,38,6)"
      ],
      "metadata": {
        "colab": {
          "base_uri": "https://localhost:8080/"
        },
        "id": "J-cRsliuZJJU",
        "outputId": "e708dfa6-f213-49a4-cd62-ff5d186a3700"
      },
      "execution_count": null,
      "outputs": [
        {
          "output_type": "execute_result",
          "data": {
            "text/plain": [
              "0.09121121972586788"
            ]
          },
          "metadata": {},
          "execution_count": 4
        }
      ]
    },
    {
      "cell_type": "markdown",
      "source": [
        "Question 4"
      ],
      "metadata": {
        "id": "_CUTAgo3ZZAV"
      }
    },
    {
      "cell_type": "code",
      "source": [
        "(stats.norm.interval(0.99,100,20))"
      ],
      "metadata": {
        "colab": {
          "base_uri": "https://localhost:8080/"
        },
        "id": "o_6vlt1zZR0e",
        "outputId": "16b12bf1-c815-4bd4-f8f0-a1eccbaa12c7"
      },
      "execution_count": null,
      "outputs": [
        {
          "output_type": "execute_result",
          "data": {
            "text/plain": [
              "(48.48341392902199, 151.516586070978)"
            ]
          },
          "metadata": {},
          "execution_count": 6
        }
      ]
    },
    {
      "cell_type": "markdown",
      "source": [
        "Question 5"
      ],
      "metadata": {
        "id": "f7o5dhlbZkGM"
      }
    },
    {
      "cell_type": "code",
      "source": [
        "# Given\n",
        "mu5_1=5\n",
        "mu5_2=7\n",
        "variance_1=3**2\n",
        "variance_2=4**2"
      ],
      "metadata": {
        "id": "hbHAEaQTZfBD"
      },
      "execution_count": null,
      "outputs": []
    },
    {
      "cell_type": "code",
      "source": [
        "mu5=mu5_1+mu5_2\n",
        "variance= variance_1 + variance_2\n",
        "\n",
        "import numpy as np\n",
        "sigma5=np.sqrt(variance)"
      ],
      "metadata": {
        "id": "Fne6llghZuv0"
      },
      "execution_count": null,
      "outputs": []
    },
    {
      "cell_type": "markdown",
      "source": [
        "A"
      ],
      "metadata": {
        "id": "D1rrl-TiaSqn"
      }
    },
    {
      "cell_type": "code",
      "source": [
        "z_score = stats.norm.ppf(0.95)"
      ],
      "metadata": {
        "id": "HYl22ROfZxse"
      },
      "execution_count": null,
      "outputs": []
    },
    {
      "cell_type": "code",
      "source": [
        "z_score"
      ],
      "metadata": {
        "colab": {
          "base_uri": "https://localhost:8080/"
        },
        "id": "Sg04dXgUacXV",
        "outputId": "faf2ece0-f40c-4b57-f39f-0fb34821bb73"
      },
      "execution_count": null,
      "outputs": [
        {
          "output_type": "execute_result",
          "data": {
            "text/plain": [
              "1.6448536269514722"
            ]
          },
          "metadata": {},
          "execution_count": 12
        }
      ]
    },
    {
      "cell_type": "code",
      "source": [
        "#z_score = (x-mu)/sigma\n",
        "x5_1=mu5 + (z_score*sigma5)\n",
        "x5_2=mu5 - (z_score*sigma5)"
      ],
      "metadata": {
        "id": "fYGmsBMEaiJd"
      },
      "execution_count": null,
      "outputs": []
    },
    {
      "cell_type": "code",
      "source": [
        "(x5_2*45*10**6,x5_1*45*10**6)"
      ],
      "metadata": {
        "colab": {
          "base_uri": "https://localhost:8080/"
        },
        "id": "I784mUU1a9SU",
        "outputId": "cd151cbf-ff9b-4e48-c785-fa11b4a36c1e"
      },
      "execution_count": null,
      "outputs": [
        {
          "output_type": "execute_result",
          "data": {
            "text/plain": [
              "(169907933.93591875, 910092066.0640812)"
            ]
          },
          "metadata": {},
          "execution_count": 14
        }
      ]
    },
    {
      "cell_type": "markdown",
      "source": [
        "B"
      ],
      "metadata": {
        "id": "Bo2k8cigbWrz"
      }
    },
    {
      "cell_type": "code",
      "source": [
        "probability= 0.05\n",
        "z_score2 = -stats.norm.ppf(probability) ## -ve sign for less than 50% probaility"
      ],
      "metadata": {
        "id": "HZUZTBZpbUe2"
      },
      "execution_count": null,
      "outputs": []
    },
    {
      "cell_type": "code",
      "source": [
        "z_score2"
      ],
      "metadata": {
        "colab": {
          "base_uri": "https://localhost:8080/"
        },
        "id": "KXVU6Pcobkhf",
        "outputId": "7241a13c-046e-4a1e-9f5b-84ee0464577d"
      },
      "execution_count": null,
      "outputs": [
        {
          "output_type": "execute_result",
          "data": {
            "text/plain": [
              "1.6448536269514729"
            ]
          },
          "metadata": {},
          "execution_count": 22
        }
      ]
    },
    {
      "cell_type": "code",
      "source": [
        "x5_b=mu5 + (z_score2*sigma5)\n"
      ],
      "metadata": {
        "id": "PGXsyvVkcfoX"
      },
      "execution_count": null,
      "outputs": []
    },
    {
      "cell_type": "code",
      "source": [
        "(x5_b*45*10**6)"
      ],
      "metadata": {
        "colab": {
          "base_uri": "https://localhost:8080/"
        },
        "id": "rejpZ3HQc_rS",
        "outputId": "e8074f91-3d42-476d-a8ea-bef18a3df86e"
      },
      "execution_count": null,
      "outputs": [
        {
          "output_type": "execute_result",
          "data": {
            "text/plain": [
              "910092066.0640814"
            ]
          },
          "metadata": {},
          "execution_count": 24
        }
      ]
    },
    {
      "cell_type": "markdown",
      "source": [
        "C"
      ],
      "metadata": {
        "id": "6WCE9TQGdJdB"
      }
    },
    {
      "cell_type": "code",
      "source": [
        "p5_1=stats.norm.cdf(0,5,3)\n",
        "p5_2=stats.norm.cdf(0,7,4)\n",
        "p5_1\n",
        "p5_2"
      ],
      "metadata": {
        "colab": {
          "base_uri": "https://localhost:8080/"
        },
        "id": "uATvS1l4dG-E",
        "outputId": "cd063a5d-90fc-408b-a7a5-fc6c2382f841"
      },
      "execution_count": null,
      "outputs": [
        {
          "output_type": "execute_result",
          "data": {
            "text/plain": [
              "0.040059156863817086"
            ]
          },
          "metadata": {},
          "execution_count": 25
        }
      ]
    },
    {
      "cell_type": "code",
      "source": [
        "if p5_1>p5_2:\n",
        "  print('division 1 has a larger probability of making a loss in a given year')\n",
        "else:\n",
        "  print('division 2 has a larger probability of making a loss in a given year')"
      ],
      "metadata": {
        "colab": {
          "base_uri": "https://localhost:8080/"
        },
        "id": "SIqXRHmtdmP3",
        "outputId": "26a649d0-8339-41c1-e804-82129a63d4e1"
      },
      "execution_count": null,
      "outputs": [
        {
          "output_type": "stream",
          "name": "stdout",
          "text": [
            "division 1 has a larger probability of making a loss in a given year\n"
          ]
        }
      ]
    },
    {
      "cell_type": "code",
      "source": [],
      "metadata": {
        "id": "9HqCiAe7duoS"
      },
      "execution_count": null,
      "outputs": []
    }
  ]
}