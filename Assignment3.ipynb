{
  "nbformat": 4,
  "nbformat_minor": 0,
  "metadata": {
    "colab": {
      "provenance": []
    },
    "kernelspec": {
      "name": "python3",
      "display_name": "Python 3"
    },
    "language_info": {
      "name": "python"
    }
  },
  "cells": [
    {
      "cell_type": "code",
      "execution_count": null,
      "metadata": {
        "id": "EPZzNDJ7fojP"
      },
      "outputs": [],
      "source": [
        "import numpy as np\n",
        "import pandas as pd\n",
        "from scipy import stats"
      ]
    },
    {
      "cell_type": "code",
      "source": [
        "margin_error=0.04"
      ],
      "metadata": {
        "id": "nIQomejmf14V"
      },
      "execution_count": null,
      "outputs": []
    },
    {
      "cell_type": "code",
      "source": [
        "alpha=0.05/2 # for the confidence\n",
        "Z_statistic = stats.norm.ppf(1-alpha)"
      ],
      "metadata": {
        "id": "U9KP6paCgE8_"
      },
      "execution_count": null,
      "outputs": []
    },
    {
      "cell_type": "code",
      "source": [
        "Z_statistic"
      ],
      "metadata": {
        "colab": {
          "base_uri": "https://localhost:8080/"
        },
        "id": "DtV_lOg-gYlT",
        "outputId": "668d4c58-68c0-4924-9134-c5955cd84315"
      },
      "execution_count": null,
      "outputs": [
        {
          "output_type": "execute_result",
          "data": {
            "text/plain": [
              "1.959963984540054"
            ]
          },
          "metadata": {},
          "execution_count": 4
        }
      ]
    },
    {
      "cell_type": "code",
      "source": [
        "p = 0.5\n",
        "n = p*(1-p)*(Z_statistic/margin_error)**2"
      ],
      "metadata": {
        "id": "mj9bTVE4gclB"
      },
      "execution_count": null,
      "outputs": []
    },
    {
      "cell_type": "code",
      "source": [
        "n"
      ],
      "metadata": {
        "colab": {
          "base_uri": "https://localhost:8080/"
        },
        "id": "vegexQ9igfiN",
        "outputId": "3af55e9c-59c4-4698-a3c6-c8f445827a77"
      },
      "execution_count": null,
      "outputs": [
        {
          "output_type": "execute_result",
          "data": {
            "text/plain": [
              "600.227940733457"
            ]
          },
          "metadata": {},
          "execution_count": 10
        }
      ]
    },
    {
      "cell_type": "markdown",
      "source": [
        "Q9\n"
      ],
      "metadata": {
        "id": "rkw7kr0QhBIN"
      }
    },
    {
      "cell_type": "code",
      "source": [
        "alpha=0.02/2 # for 98% confidence\n",
        "Z_statistic = stats.norm.ppf(1-alpha)\n",
        "n=p*(1-p)*(Z_statistic/margin_error)**2"
      ],
      "metadata": {
        "id": "mHmqB1Tfg-rU"
      },
      "execution_count": null,
      "outputs": []
    },
    {
      "cell_type": "code",
      "source": [
        "n"
      ],
      "metadata": {
        "colab": {
          "base_uri": "https://localhost:8080/"
        },
        "id": "jGHgUUgrheH1",
        "outputId": "3c1fa6b6-bcf9-4ee7-966d-27865d4f504c"
      },
      "execution_count": null,
      "outputs": [
        {
          "output_type": "execute_result",
          "data": {
            "text/plain": [
              "845.6085048522406"
            ]
          },
          "metadata": {},
          "execution_count": 12
        }
      ]
    },
    {
      "cell_type": "code",
      "source": [],
      "metadata": {
        "id": "RUr6B5xLhfhb"
      },
      "execution_count": null,
      "outputs": []
    }
  ]
}